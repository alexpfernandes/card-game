{
 "cells": [
  {
   "cell_type": "code",
   "execution_count": 21,
   "metadata": {},
   "outputs": [],
   "source": [
    "# Classes\n",
    "\n",
    "class Card():\n",
    "    '''A class to manage a single card'''\n",
    "    \n",
    "    def __init__(self,\n",
    "                 value:str = None,\n",
    "                 suit:str = None):\n",
    "        \n",
    "        self.value = value\n",
    "        self.suit = suit\n",
    "        self.name = self.value + ' of ' + self.suit\n",
    "    \n",
    "class Pile():\n",
    "    '''A class to manage an ordered set of cards'''\n",
    "    \n",
    "    def __init__(self,\n",
    "                 name:str = None,\n",
    "                 card_list:list = None):\n",
    "        \n",
    "        self.name = name\n",
    "        if card_list is None:\n",
    "            self.card_list = []\n",
    "        else:\n",
    "            self.card_list = card_list\n",
    "        \n",
    "    def shuffle(self):\n",
    "        # This method is called to shuffle the pile\n",
    "        \n",
    "        random.shuffle(self.card_list)\n",
    "        \n",
    "class Hand(Pile):\n",
    "    '''A class to manage a hand of cards, child class to Pile'''\n",
    "    \n",
    "    def __init__(self,\n",
    "                 name:str = None,\n",
    "                 card_list:list = None,\n",
    "                 owner:str = None):\n",
    "        \n",
    "        Pile.__init__(self,name,card_list)\n",
    "        self.owner = owner\n",
    "        \n",
    "    def draw(self,\n",
    "             pile:str = None,\n",
    "             number:int = 1):\n",
    "        # This method is called to draw a number of cards to the hand from a pile\n",
    "        \n",
    "        self.card_list.extend(pile.card_list[-number:])\n",
    "        del pile.card_list[-number:]\n",
    "        "
   ]
  },
  {
   "cell_type": "code",
   "execution_count": 22,
   "metadata": {},
   "outputs": [],
   "source": [
    "# Game initialization  \n",
    "import random\n",
    "\n",
    "def startgame():\n",
    "    cards = list()\n",
    "    suits = {0:\"Hearts\", 1:\"Diamonds\", 2:\"Clubs\", 3:\"Spades\"}\n",
    "    values = {0:\"Two\", 1:\"Three\", 2:\"Four\", 3:\"Five\", 4:\"Six\", 5:\"Seven\", 6:\"Eight\",\n",
    "              7:\"Nine\", 8:\"Ten\", 9:\"Jack\", 10:\"Queen\", 11:\"King\", 12:\"Ace\"}\n",
    "    \n",
    "    # Create the 52 playing cards\n",
    "    for s in range(4):\n",
    "        for v in range(13):\n",
    "            cards.append(Card(value = values[v], suit = suits[s]))\n",
    "    \n",
    "    # Create piles and hands\n",
    "    draw_pile = Pile(name = \"Draw Pile\", card_list = cards.copy())\n",
    "    alex_hand = Hand(name = \"Alex's Hand\", owner = \"Alex\")\n",
    "    louis_hand = Hand(name = \"Louis's Hand\", owner = \"Louis\")\n",
    "    \n",
    "    # Shuffle up and deal\n",
    "    draw_pile.shuffle()\n",
    "    alex_hand.draw(pile = draw_pile, number = 5)\n",
    "    louis_hand.draw(pile = draw_pile, number = 5)\n",
    "    \n",
    "    return cards, draw_pile, alex_hand, louis_hand"
   ]
  },
  {
   "cell_type": "code",
   "execution_count": 23,
   "metadata": {},
   "outputs": [],
   "source": [
    "# Test area\n",
    "\n",
    "cards, draw_pile, alex_hand, louis_hand = startgame()"
   ]
  },
  {
   "cell_type": "code",
   "execution_count": 27,
   "metadata": {},
   "outputs": [
    {
     "name": "stdout",
     "output_type": "stream",
     "text": [
      "The Draw Pile has 42 cards and the top card is:\n",
      "The Three of Clubs\n",
      "Alex's hand:\n",
      "  Seven of Spades\n",
      "  Three of Hearts\n",
      "  Three of Diamonds\n",
      "  King of Spades\n",
      "  Nine of Diamonds\n",
      "Louis's hand:\n",
      "  Five of Clubs\n",
      "  Five of Hearts\n",
      "  Seven of Diamonds\n",
      "  Six of Spades\n",
      "  Jack of Hearts\n"
     ]
    }
   ],
   "source": [
    "#Test area\n",
    "print('The Draw Pile has ' + str(len(draw_pile.card_list)) + ' cards and the top card is:')\n",
    "print('The ' + draw_pile.card_list[-1].value + ' of ' + draw_pile.card_list[-1].suit)\n",
    "print(\"Alex's hand:\")\n",
    "for card in alex_hand.card_list:\n",
    "    print('  ' + card.name)\n",
    "print(\"Louis's hand:\")\n",
    "for card in louis_hand.card_list:\n",
    "    print('  ' + card.name)"
   ]
  },
  {
   "cell_type": "code",
   "execution_count": 20,
   "metadata": {},
   "outputs": [
    {
     "name": "stdout",
     "output_type": "stream",
     "text": [
      "[1, 2, 3, 4, 5, 6]\n",
      "[7, 8, 9]\n"
     ]
    }
   ],
   "source": [
    "apples = [1,2,3,4,5,6,7,8,9]\n",
    "bananas = []\n",
    "\n",
    "bananas.extend(apples[-3:])\n",
    "del apples[-3:]\n",
    "\n",
    "print(apples)\n",
    "print(bananas)"
   ]
  },
  {
   "cell_type": "code",
   "execution_count": null,
   "metadata": {},
   "outputs": [],
   "source": []
  }
 ],
 "metadata": {
  "kernelspec": {
   "display_name": "Python 3",
   "language": "python",
   "name": "python3"
  },
  "language_info": {
   "codemirror_mode": {
    "name": "ipython",
    "version": 3
   },
   "file_extension": ".py",
   "mimetype": "text/x-python",
   "name": "python",
   "nbconvert_exporter": "python",
   "pygments_lexer": "ipython3",
   "version": "3.8.5"
  }
 },
 "nbformat": 4,
 "nbformat_minor": 4
}
